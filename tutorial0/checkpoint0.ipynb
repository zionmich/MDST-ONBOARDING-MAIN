{
 "cells": [
  {
   "cell_type": "markdown",
   "metadata": {
    "colab_type": "text",
    "id": "0a8IYAJUshu1"
   },
   "source": [
    "# Checkpoint 0 "
   ]
  },
  {
   "cell_type": "markdown",
   "metadata": {},
   "source": [
    "These exercises are a mix of Python and Pandas practice. Most should be no more than a few lines of code! \n",
    "\n",
    "Do not remove comments that start with: \"# @@@\" (Those are question tags)"
   ]
  },
  {
   "cell_type": "code",
   "execution_count": 92,
   "metadata": {
    "colab": {},
    "colab_type": "code",
    "id": "Jo6wuTgkshu1"
   },
   "outputs": [
    {
     "name": "stdout",
     "output_type": "stream",
     "text": [
      "[1, 2, 3, 4, 5, 6]\n"
     ]
    }
   ],
   "source": [
    "# @@@ Question 1: Here is a python list, initialize another list called b with the same values as a.\n",
    "a = [1, 2, 3, 4, 5, 6]\n",
    "b = a.copy()\n",
    "print(b)"
   ]
  },
  {
   "cell_type": "code",
   "execution_count": 93,
   "id": "779d96b1",
   "metadata": {},
   "outputs": [
    {
     "name": "stdout",
     "output_type": "stream",
     "text": [
      "[4, 5, 6]\n"
     ]
    }
   ],
   "source": [
    "# @@@ Question 2: get a list containing the last 3 elements of b \n",
    "# Yes, you can just type out [4, 5, 6] but we really want to see you demonstrate you know how to use list slicing in Python\n",
    "lastThree = b[-3:]\n",
    "print(lastThree)"
   ]
  },
  {
   "cell_type": "code",
   "execution_count": 94,
   "id": "b6a54def",
   "metadata": {},
   "outputs": [
    {
     "name": "stdout",
     "output_type": "stream",
     "text": [
      "[1, 2, 3, 4, 5, 6, 7, 8, 9, 10, 11, 12, 13, 14, 15, 16, 17, 18, 19, 20]\n"
     ]
    }
   ],
   "source": [
    "# @@@ Question 3: Create a list of numbers from 1 to 20\n",
    "numbers = list(range(1, 21))\n",
    "print(numbers)"
   ]
  },
  {
   "cell_type": "code",
   "execution_count": 95,
   "id": "487873ac",
   "metadata": {},
   "outputs": [
    {
     "name": "stdout",
     "output_type": "stream",
     "text": [
      "[2, 4, 6, 8, 10, 12, 14, 16, 18, 20, 22, 24, 26, 28, 30, 32, 34, 36, 38, 40, 42, 44, 46, 48, 50, 52, 54, 56, 58, 60, 62, 64, 66, 68, 70, 72, 74, 76, 78, 80, 82, 84, 86, 88, 90, 92, 94, 96, 98, 100]\n"
     ]
    }
   ],
   "source": [
    "# @@@ Question 4: now get a list with only the even numbers between 1 and 100\n",
    "evenNums = [x for x in range(1, 101) if x % 2 == 0]\n",
    "print(evenNums)"
   ]
  },
  {
   "cell_type": "code",
   "execution_count": 1,
   "id": "3d4bb5dd",
   "metadata": {},
   "outputs": [
    {
     "name": "stdout",
     "output_type": "stream",
     "text": [
      "5.0\n",
      "undefined\n"
     ]
    }
   ],
   "source": [
    "# @@@ Question 5: write a function that takes two numbers as arguments\n",
    "# and returns the first number divided by the second\n",
    "def divide_numbers(a, b):\n",
    "    if b == 0:\n",
    "        return \"undefined\"\n",
    "    return a / b\n",
    "\n",
    "result1 = divide_numbers(10,2)\n",
    "result2 = divide_numbers(50, 0)\n",
    "\n",
    "print (result1)\n",
    "print (result2)"
   ]
  },
  {
   "cell_type": "code",
   "execution_count": 97,
   "id": "f55df04e",
   "metadata": {},
   "outputs": [
    {
     "name": "stdout",
     "output_type": "stream",
     "text": [
      "1\n",
      "2\n",
      "fizz\n",
      "4\n",
      "buzz\n",
      "fizz\n",
      "7\n",
      "8\n",
      "fizz\n",
      "buzz\n",
      "11\n",
      "fizz\n",
      "13\n",
      "14\n",
      "fizzbuzz\n",
      "16\n",
      "17\n",
      "fizz\n",
      "19\n",
      "buzz\n",
      "fizz\n",
      "22\n",
      "23\n",
      "fizz\n",
      "buzz\n",
      "26\n",
      "fizz\n",
      "28\n",
      "29\n",
      "fizzbuzz\n"
     ]
    }
   ],
   "source": [
    "# @@@ Queston 6: fizzbuzz\n",
    "# you will need to use both iteration and control flow \n",
    "# go through all numbers from 1 to 30 in order\n",
    "# if the number is a multiple of 3, print fizz\n",
    "# if the number is a multiple of 5, print buzz\n",
    "# if the number is a multiple of 3 and 5, print fizzbuzz and NOTHING ELSE\n",
    "# if the number is neither a multiple of 3 nor a multiple of 5, print the number\n",
    "\n",
    "for num in range(1, 31):\n",
    "    if num % 3 == 0 and num % 5 == 0:\n",
    "        print(\"fizzbuzz\")\n",
    "    elif num % 3 == 0:\n",
    "        print(\"fizz\")\n",
    "    elif num % 5 == 0:\n",
    "        print(\"buzz\")\n",
    "    else:\n",
    "        print(num)"
   ]
  },
  {
   "cell_type": "code",
   "execution_count": 98,
   "id": "78aace0b",
   "metadata": {},
   "outputs": [
    {
     "name": "stdout",
     "output_type": "stream",
     "text": [
      "{'Gyro': 9, 'Burger': 9, 'Greek Salad': 8, 'Philly Steak': 10}\n"
     ]
    }
   ],
   "source": [
    "# @@@ Question 7: create a dictionary that reflects the following menu pricing (taken from Ahmo's)\n",
    "# Gyro: $9 \n",
    "# Burger: $9\n",
    "# Greek Salad: $8\n",
    "# Philly Steak: $10\n",
    "\n",
    "menu_pricing = {\n",
    "    \"Gyro\": 9,\n",
    "    \"Burger\": 9,\n",
    "    \"Greek Salad\": 8,\n",
    "    \"Philly Steak\": 10\n",
    "}\n",
    "\n",
    "print(menu_pricing)"
   ]
  },
  {
   "cell_type": "code",
   "execution_count": 99,
   "metadata": {
    "colab": {},
    "colab_type": "code",
    "id": "WzCQ5HOJshvA"
   },
   "outputs": [
    {
     "name": "stdout",
     "output_type": "stream",
     "text": [
      "         beverage_category       beverage      beverage_prep  calories  \\\n",
      "0                   coffee  brewed coffee              Short         3   \n",
      "1                   coffee  brewed coffee               Tall         4   \n",
      "2                   coffee  brewed coffee             Grande         5   \n",
      "3                   coffee  brewed coffee              Venti         5   \n",
      "4  classic espresso drinks     caff latte  Short Nonfat Milk        70   \n",
      "\n",
      "   total fat  trans fat  saturated fat  sodium  total carbohydrates  \\\n",
      "0        0.1        0.0            0.0       0                    5   \n",
      "1        0.1        0.0            0.0       0                   10   \n",
      "2        0.1        0.0            0.0       0                   10   \n",
      "3        0.1        0.0            0.0       0                   10   \n",
      "4        0.1        0.1            0.0       5                   75   \n",
      "\n",
      "   cholesterol  dietary fibre  sugars  protein  vitamin a  vitamin c  calcium  \\\n",
      "0            0              0       0      0.3          0          0        0   \n",
      "1            0              0       0      0.5          0          0        0   \n",
      "2            0              0       0      1.0          0          0        0   \n",
      "3            0              0       0      1.0          0          0        2   \n",
      "4           10              0       9      6.0         10          0       20   \n",
      "\n",
      "   iron  caffeine  \n",
      "0   0.0     175.0  \n",
      "1   0.0     260.0  \n",
      "2   0.0     330.0  \n",
      "3   0.0     410.0  \n",
      "4   0.0      75.0  \n"
     ]
    }
   ],
   "source": [
    "# @@@ Question 8: load in the \"starbucks.csv\" dataset\n",
    "# refer to how we read the cereal.csv dataset in the tutorial\n",
    "import pandas as pd\n",
    "\n",
    "starbys = pd.read_csv(\"/Users/zionm/Downloads/MDST-Onboarding-main/data/starbucks.csv\")\n",
    "\n",
    "print(starbys.head())"
   ]
  },
  {
   "cell_type": "code",
   "execution_count": 100,
   "id": "ac0f0c12",
   "metadata": {},
   "outputs": [
    {
     "name": "stdout",
     "output_type": "stream",
     "text": [
      "              beverage_category  \\\n",
      "81    signature espresso drinks   \n",
      "83    signature espresso drinks   \n",
      "84    signature espresso drinks   \n",
      "85    signature espresso drinks   \n",
      "128             tazo tea drinks   \n",
      "214  frappuccino blended coffee   \n",
      "215  frappuccino blended coffee   \n",
      "216  frappuccino blended coffee   \n",
      "\n",
      "                                          beverage      beverage_prep  \\\n",
      "81   white chocolate mocha (without whipped cream)            2% Milk   \n",
      "83   white chocolate mocha (without whipped cream)  Venti Nonfat Milk   \n",
      "84   white chocolate mocha (without whipped cream)            2% Milk   \n",
      "85   white chocolate mocha (without whipped cream)            Soymilk   \n",
      "128                           tazo green tea latte            2% Milk   \n",
      "214              java chip (without whipped cream)  Venti Nonfat Milk   \n",
      "215              java chip (without whipped cream)         Whole Milk   \n",
      "216              java chip (without whipped cream)            Soymilk   \n",
      "\n",
      "     calories  total fat  trans fat  saturated fat  sodium  \\\n",
      "81        400       11.0        7.0            0.2      25   \n",
      "83        450        7.0        6.0            0.0      10   \n",
      "84        510       15.0        9.0            0.2      35   \n",
      "85        460       13.0        6.0            0.0       5   \n",
      "128       450       10.0        5.0            0.3      40   \n",
      "214       420        5.0        4.0            0.0       5   \n",
      "215       460       10.0        7.0            0.2      15   \n",
      "216       430        8.0        4.5            0.0       0   \n",
      "\n",
      "     total carbohydrates  cholesterol  dietary fibre  sugars  protein  \\\n",
      "81                   250           61              0      58     15.0   \n",
      "83                   310           78              0      74     19.0   \n",
      "84                   330           77              0      74     19.0   \n",
      "85                   290           70              1      64     16.0   \n",
      "128                  230           72              2      71     17.0   \n",
      "214                  340           90              2      84      7.0   \n",
      "215                  340           90              2      84      7.0   \n",
      "216                  330           88              3      80      6.0   \n",
      "\n",
      "     vitamin a  vitamin c  calcium  iron  caffeine  \n",
      "81          15          2       45   0.0     150.0  \n",
      "83          25          2       60   2.0     150.0  \n",
      "84          20          4       60   2.0     150.0  \n",
      "85          15          2       60  20.0     150.0  \n",
      "128         25         20       50   6.0     110.0  \n",
      "214         10          0       20  35.0     145.0  \n",
      "215          6          0       15  35.0     145.0  \n",
      "216          6          0       20  40.0     145.0  \n",
      "Index(['beverage_category', 'beverage', 'beverage_prep', 'calories',\n",
      "       'total fat', 'trans fat', 'saturated fat', 'sodium',\n",
      "       'total carbohydrates', 'cholesterol', 'dietary fibre', 'sugars',\n",
      "       'protein', 'vitamin a', 'vitamin c', 'calcium', 'iron', 'caffeine'],\n",
      "      dtype='object')\n"
     ]
    }
   ],
   "source": [
    "# @@@ Question 9: select all rows with more than and including 400 calories\n",
    "highCal = starbys[starbys['calories'] >= 400]\n",
    "\n",
    "print(highCal)\n",
    "\n",
    "print(starbys.columns)"
   ]
  },
  {
   "cell_type": "code",
   "execution_count": 101,
   "id": "ee8f8241",
   "metadata": {},
   "outputs": [
    {
     "name": "stdout",
     "output_type": "stream",
     "text": [
      "                                              beverage  vitamin c  iron\n",
      "11                                          caff latte          2   0.0\n",
      "14                                          caff latte          2   0.0\n",
      "35            vanilla latte (or other flavoured latte)          2   0.0\n",
      "38            vanilla latte (or other flavoured latte)          2   0.0\n",
      "69                                   caramel macchiato          2   0.0\n",
      "72                                   caramel macchiato          2   0.0\n",
      "75       white chocolate mocha (without whipped cream)          2   0.0\n",
      "77       white chocolate mocha (without whipped cream)          2   0.0\n",
      "78       white chocolate mocha (without whipped cream)          2   0.0\n",
      "81       white chocolate mocha (without whipped cream)          2   0.0\n",
      "84       white chocolate mocha (without whipped cream)          4   2.0\n",
      "118                               tazo green tea latte          4   2.0\n",
      "119                               tazo green tea latte          6   2.0\n",
      "121                               tazo green tea latte         10   4.0\n",
      "122                               tazo green tea latte         10   4.0\n",
      "124                               tazo green tea latte         15   4.0\n",
      "125                               tazo green tea latte         15   4.0\n",
      "127                               tazo green tea latte         20   6.0\n",
      "128                               tazo green tea latte         20   6.0\n",
      "169  shaken iced tazo tea lemonade (with classic sy...         10   0.0\n",
      "170  shaken iced tazo tea lemonade (with classic sy...         15   0.0\n",
      "171  shaken iced tazo tea lemonade (with classic sy...         20   0.0\n",
      "172                          banana chocolate smoothie         15   0.0\n",
      "175                       orange mango banana smoothie         80  30.0\n",
      "176                       orange mango banana smoothie         80   6.0\n",
      "177                       orange mango banana smoothie         80   6.0\n",
      "178                         strawberry banana smoothie        100   8.0\n",
      "179                         strawberry banana smoothie        100   8.0\n",
      "180                         strawberry banana smoothie        100   8.0\n",
      "229         strawberries  crme (without whipped cream)          6   2.0\n",
      "230         strawberries  crme (without whipped cream)          6   2.0\n",
      "232         strawberries  crme (without whipped cream)          6   4.0\n",
      "233         strawberries  crme (without whipped cream)          6   4.0\n",
      "235         strawberries  crme (without whipped cream)          8   4.0\n",
      "236         strawberries  crme (without whipped cream)          8   4.0\n"
     ]
    }
   ],
   "source": [
    "# @@@ Question 10: sexlect all rows whose vitamin c content is higher than the iron content\n",
    "vitamin_c_greater = starbys[starbys['vitamin c'] > starbys['iron']]\n",
    "\n",
    "print(vitamin_c_greater[['beverage', 'vitamin c', 'iron']])\n"
   ]
  },
  {
   "cell_type": "code",
   "execution_count": 102,
   "id": "d4de48bb",
   "metadata": {},
   "outputs": [
    {
     "name": "stdout",
     "output_type": "stream",
     "text": [
      "                                       beverage  caffeine  calories  \\\n",
      "0                                 brewed coffee     175.0         3   \n",
      "1                                 brewed coffee     260.0         4   \n",
      "2                                 brewed coffee     330.0         5   \n",
      "3                                 brewed coffee     410.0         5   \n",
      "4                                    caff latte      75.0        70   \n",
      "..                                          ...       ...       ...   \n",
      "237  strawberries  crme (without whipped cream)       0.0       320   \n",
      "238        vanilla bean (without whipped cream)       0.0       170   \n",
      "239        vanilla bean (without whipped cream)       0.0       200   \n",
      "240        vanilla bean (without whipped cream)       0.0       180   \n",
      "241        vanilla bean (without whipped cream)       0.0       240   \n",
      "\n",
      "     caffeine_per_calories  \n",
      "0                58.333333  \n",
      "1                65.000000  \n",
      "2                66.000000  \n",
      "3                82.000000  \n",
      "4                 1.071429  \n",
      "..                     ...  \n",
      "237               0.000000  \n",
      "238               0.000000  \n",
      "239               0.000000  \n",
      "240               0.000000  \n",
      "241               0.000000  \n",
      "\n",
      "[242 rows x 4 columns]\n"
     ]
    }
   ],
   "source": [
    "# @@@ Question 11: create a new column containing the caffeine per calories of each drink\n",
    "starbys['caffeine_per_calories'] = starbys['caffeine'] / starbys['calories']\n",
    "print(starbys[['beverage', 'caffeine', 'calories', 'caffeine_per_calories']])"
   ]
  },
  {
   "cell_type": "code",
   "execution_count": 103,
   "metadata": {
    "colab": {},
    "colab_type": "code",
    "id": "rIoxaSxHshvB"
   },
   "outputs": [
    {
     "name": "stdout",
     "output_type": "stream",
     "text": [
      "av cals: 193.87190082644628\n"
     ]
    }
   ],
   "source": [
    "# @@@ Question 12: what is the average calorie across all items?\n",
    "average_calories = starbys['calories'].mean()\n",
    "print(f\"av cals: {average_calories}\")\n"
   ]
  },
  {
   "cell_type": "code",
   "execution_count": 104,
   "metadata": {
    "colab": {},
    "colab_type": "code",
    "id": "ABX7i49FshvD"
   },
   "outputs": [
    {
     "name": "stdout",
     "output_type": "stream",
     "text": [
      "there are 9 different categories\n"
     ]
    }
   ],
   "source": [
    "# @@@ Question 13: how many different categories of beverages are there?\n",
    "num_categories = starbys['beverage_category'].nunique()\n",
    "\n",
    "print(f\"there are {num_categories} different categories\")"
   ]
  },
  {
   "cell_type": "code",
   "execution_count": 107,
   "metadata": {
    "colab": {},
    "colab_type": "code",
    "id": "P9QatZAzshvE"
   },
   "outputs": [
    {
     "name": "stdout",
     "output_type": "stream",
     "text": [
      "Average calories for each beverage category:\n",
      "                  beverage_category    calories\n",
      "0           classic espresso drinks  140.172414\n",
      "1                            coffee    4.250000\n",
      "2        frappuccino blended coffee  276.944444\n",
      "3          frappuccino blended crme  233.076923\n",
      "4  frappuccino light blended coffee  162.500000\n",
      "5             shaken iced beverages  114.444444\n",
      "6         signature espresso drinks  250.000000\n",
      "7                         smoothies  282.222222\n",
      "8                   tazo tea drinks  177.307692\n"
     ]
    }
   ],
   "source": [
    "# @@@ Question 14: what is the average # calories for each beverage category?\n",
    "average_calories_per_category = starbys.groupby('beverage_category')['calories'].mean().reset_index()\n",
    "print(\"Average calories for each beverage category:\")\n",
    "print(average_calories_per_category)\n"
   ]
  }
 ],
 "metadata": {
  "kernelspec": {
   "display_name": "Python 3",
   "language": "python",
   "name": "python3"
  },
  "language_info": {
   "codemirror_mode": {
    "name": "ipython",
    "version": 3
   },
   "file_extension": ".py",
   "mimetype": "text/x-python",
   "name": "python",
   "nbconvert_exporter": "python",
   "pygments_lexer": "ipython3",
   "version": "3.12.5"
  }
 },
 "nbformat": 4,
 "nbformat_minor": 5
}
